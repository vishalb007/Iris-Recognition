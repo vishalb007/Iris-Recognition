{
 "cells": [
  {
   "cell_type": "code",
   "execution_count": 1,
   "metadata": {},
   "outputs": [
    {
     "name": "stderr",
     "output_type": "stream",
     "text": [
      "Using TensorFlow backend.\n"
     ]
    }
   ],
   "source": [
    "#Import required libraries.\n",
    "import keras,os\n",
    "from keras.models import Sequential\n",
    "from keras.layers import Dense, Conv2D, MaxPool2D , Flatten, Dropout\n",
    "from keras.preprocessing.image import ImageDataGenerator\n",
    "import numpy as np"
   ]
  },
  {
   "cell_type": "code",
   "execution_count": 2,
   "metadata": {},
   "outputs": [
    {
     "name": "stdout",
     "output_type": "stream",
     "text": [
      "Found 544 images belonging to 108 classes.\n",
      "Found 216 images belonging to 108 classes.\n"
     ]
    }
   ],
   "source": [
    "#ImageDataGenerator Generate batches of tensor image data with real-time data augmentation.\n",
    "trdata = ImageDataGenerator()\n",
    "traindata = trdata.flow_from_directory(directory=\"/home/sushant/Desktop/Study/DL/Project/Final/casia_interval/Train/\",target_size=(320,240))\n",
    "tsdata = ImageDataGenerator()\n",
    "testdata = tsdata.flow_from_directory(directory=\"/home/sushant/Desktop/Study/DL/Project/Final/casia_interval/Valid/\", target_size=(320,240))"
   ]
  },
  {
   "cell_type": "code",
   "execution_count": 3,
   "metadata": {},
   "outputs": [
    {
     "name": "stdout",
     "output_type": "stream",
     "text": [
      "WARNING:tensorflow:From /home/sushant/anaconda3/lib/python3.6/site-packages/tensorflow_core/python/ops/resource_variable_ops.py:1630: calling BaseResourceVariable.__init__ (from tensorflow.python.ops.resource_variable_ops) with constraint is deprecated and will be removed in a future version.\n",
      "Instructions for updating:\n",
      "If using Keras pass *_constraint arguments to layers.\n",
      "WARNING:tensorflow:From /home/sushant/anaconda3/lib/python3.6/site-packages/keras/backend/tensorflow_backend.py:4070: The name tf.nn.max_pool is deprecated. Please use tf.nn.max_pool2d instead.\n",
      "\n"
     ]
    }
   ],
   "source": [
    "# Model for generating architecture proposed in the paper\n",
    "model = Sequential()\n",
    "model.add(Conv2D(input_shape=(320,240,3),filters=32,kernel_size=(3,3), activation=\"relu\"))\n",
    "model.add(MaxPool2D(pool_size=(2,2)))\n",
    "model.add(Conv2D(filters=64, kernel_size=(5,5), activation=\"relu\"))\n",
    "model.add(MaxPool2D(pool_size=(2,2)))\n",
    "model.add(Conv2D(filters=128, kernel_size=(7,7), activation=\"relu\"))\n",
    "model.add(MaxPool2D(pool_size=(2,2)))\n",
    "model.add(Flatten())\n",
    "model.add(Dense(units=256,activation=\"relu\"))\n",
    "model.add(Dropout(0.3))\n",
    "model.add(Dense(units=108, activation=\"softmax\"))"
   ]
  },
  {
   "cell_type": "code",
   "execution_count": 4,
   "metadata": {},
   "outputs": [],
   "source": [
    "#optimizer (Adam) while training model \n",
    "from keras.optimizers import Adam\n",
    "opt = Adam(lr=0.0001)\n",
    "model.compile(optimizer=opt, loss=keras.losses.categorical_crossentropy, metrics=['accuracy'])"
   ]
  },
  {
   "cell_type": "code",
   "execution_count": 5,
   "metadata": {},
   "outputs": [
    {
     "name": "stdout",
     "output_type": "stream",
     "text": [
      "WARNING:tensorflow:From /home/sushant/anaconda3/lib/python3.6/site-packages/keras/backend/tensorflow_backend.py:422: The name tf.global_variables is deprecated. Please use tf.compat.v1.global_variables instead.\n",
      "\n",
      "Epoch 1/30\n",
      "17/17 [==============================] - 134s 8s/step - loss: 32.3283 - accuracy: 0.0147 - val_loss: 4.7288 - val_accuracy: 0.0185\n",
      "Epoch 2/30\n",
      "17/17 [==============================] - 142s 8s/step - loss: 4.6072 - accuracy: 0.0331 - val_loss: 4.5755 - val_accuracy: 0.0463\n",
      "Epoch 3/30\n",
      "17/17 [==============================] - 150s 9s/step - loss: 4.1829 - accuracy: 0.1232 - val_loss: 4.3586 - val_accuracy: 0.1157\n",
      "Epoch 4/30\n",
      "17/17 [==============================] - 137s 8s/step - loss: 3.4617 - accuracy: 0.2169 - val_loss: 3.5254 - val_accuracy: 0.2269\n",
      "Epoch 5/30\n",
      "17/17 [==============================] - 137s 8s/step - loss: 2.5584 - accuracy: 0.4081 - val_loss: 3.3138 - val_accuracy: 0.2639\n",
      "Epoch 6/30\n",
      "17/17 [==============================] - 133s 8s/step - loss: 1.7757 - accuracy: 0.5662 - val_loss: 3.3915 - val_accuracy: 0.3426\n",
      "Epoch 7/30\n",
      "17/17 [==============================] - 133s 8s/step - loss: 1.1766 - accuracy: 0.6875 - val_loss: 3.0447 - val_accuracy: 0.3796\n",
      "Epoch 8/30\n",
      "17/17 [==============================] - 133s 8s/step - loss: 0.7310 - accuracy: 0.8217 - val_loss: 2.7873 - val_accuracy: 0.4352\n",
      "Epoch 9/30\n",
      "17/17 [==============================] - 133s 8s/step - loss: 0.4815 - accuracy: 0.8787 - val_loss: 3.3841 - val_accuracy: 0.4074\n",
      "Epoch 10/30\n",
      "17/17 [==============================] - 134s 8s/step - loss: 0.3306 - accuracy: 0.9081 - val_loss: 2.7034 - val_accuracy: 0.4630\n",
      "Epoch 11/30\n",
      "17/17 [==============================] - 133s 8s/step - loss: 0.2256 - accuracy: 0.9485 - val_loss: 2.8293 - val_accuracy: 0.4954\n",
      "Epoch 12/30\n",
      "17/17 [==============================] - 133s 8s/step - loss: 0.1677 - accuracy: 0.9596 - val_loss: 2.1331 - val_accuracy: 0.5046\n",
      "Epoch 13/30\n",
      "17/17 [==============================] - 134s 8s/step - loss: 0.1067 - accuracy: 0.9761 - val_loss: 2.9934 - val_accuracy: 0.5139\n",
      "Epoch 14/30\n",
      "17/17 [==============================] - 134s 8s/step - loss: 0.0915 - accuracy: 0.9779 - val_loss: 2.8861 - val_accuracy: 0.5463\n",
      "Epoch 15/30\n",
      "17/17 [==============================] - 133s 8s/step - loss: 0.0604 - accuracy: 0.9890 - val_loss: 3.1064 - val_accuracy: 0.5370\n",
      "Epoch 16/30\n",
      "17/17 [==============================] - 135s 8s/step - loss: 0.0807 - accuracy: 0.9816 - val_loss: 3.2160 - val_accuracy: 0.5139\n",
      "Epoch 17/30\n",
      "17/17 [==============================] - 133s 8s/step - loss: 0.0577 - accuracy: 0.9853 - val_loss: 3.1815 - val_accuracy: 0.4815\n",
      "Epoch 18/30\n",
      "17/17 [==============================] - 134s 8s/step - loss: 0.0690 - accuracy: 0.9816 - val_loss: 2.2819 - val_accuracy: 0.4769\n",
      "Epoch 19/30\n",
      "17/17 [==============================] - 133s 8s/step - loss: 0.0474 - accuracy: 0.9890 - val_loss: 3.1135 - val_accuracy: 0.5093\n",
      "Epoch 20/30\n",
      "17/17 [==============================] - 133s 8s/step - loss: 0.0661 - accuracy: 0.9853 - val_loss: 2.5491 - val_accuracy: 0.5324\n",
      "Epoch 21/30\n",
      "17/17 [==============================] - 133s 8s/step - loss: 0.0567 - accuracy: 0.9816 - val_loss: 1.3422 - val_accuracy: 0.5139\n",
      "Epoch 22/30\n",
      "17/17 [==============================] - 133s 8s/step - loss: 0.0460 - accuracy: 0.9871 - val_loss: 2.7962 - val_accuracy: 0.5093\n",
      "Epoch 23/30\n",
      "17/17 [==============================] - 133s 8s/step - loss: 0.0437 - accuracy: 0.9890 - val_loss: 2.7637 - val_accuracy: 0.4954\n",
      "Epoch 24/30\n",
      "17/17 [==============================] - 133s 8s/step - loss: 0.0326 - accuracy: 0.9926 - val_loss: 2.3607 - val_accuracy: 0.5370\n",
      "Epoch 25/30\n",
      "17/17 [==============================] - 133s 8s/step - loss: 0.0276 - accuracy: 0.9926 - val_loss: 3.0062 - val_accuracy: 0.5185\n",
      "Epoch 26/30\n",
      "17/17 [==============================] - 133s 8s/step - loss: 0.0219 - accuracy: 0.9945 - val_loss: 2.7613 - val_accuracy: 0.5324\n",
      "Epoch 27/30\n",
      "17/17 [==============================] - 133s 8s/step - loss: 0.0225 - accuracy: 0.9945 - val_loss: 1.8831 - val_accuracy: 0.5556\n",
      "Epoch 28/30\n",
      "17/17 [==============================] - 133s 8s/step - loss: 0.0212 - accuracy: 0.9963 - val_loss: 1.4522 - val_accuracy: 0.5370\n",
      "Epoch 29/30\n",
      "17/17 [==============================] - 133s 8s/step - loss: 0.0444 - accuracy: 0.9890 - val_loss: 4.7150 - val_accuracy: 0.5139\n",
      "Epoch 30/30\n",
      "17/17 [==============================] - 135s 8s/step - loss: 0.0352 - accuracy: 0.9908 - val_loss: 3.1681 - val_accuracy: 0.5463\n"
     ]
    }
   ],
   "source": [
    "#Training model\n",
    "hist = model.fit_generator(generator=traindata, validation_data= testdata,epochs=30 )"
   ]
  },
  {
   "cell_type": "code",
   "execution_count": 6,
   "metadata": {},
   "outputs": [
    {
     "data": {
      "image/png": "[encoded data removed]",
      "text/plain": [
       "<Figure size 432x288 with 1 Axes>"
      ]
     },
     "metadata": {
      "needs_background": "light"
     },
     "output_type": "display_data"
    }
   ],
   "source": [
    "#Presenting accuracy of a model\n",
    "import matplotlib.pyplot as plt\n",
    "plt.plot(hist.history[\"accuracy\"])\n",
    "plt.plot(hist.history['val_accuracy'])\n",
    "plt.title(\"model accuracy\")\n",
    "plt.ylabel(\"Accuracy\")\n",
    "plt.xlabel(\"Epoch\")\n",
    "plt.legend([\"Accuracy\",\"Validation Accuracy\"])\n",
    "plt.show()"
   ]
  },
  {
   "cell_type": "code",
   "execution_count": 7,
   "metadata": {},
   "outputs": [
    {
     "data": {
      "image/png": "[encoded data removed]",
      "text/plain": [
       "<Figure size 432x288 with 1 Axes>"
      ]
     },
     "metadata": {
      "needs_background": "light"
     },
     "output_type": "display_data"
    }
   ],
   "source": [
    "#Presenting loss of a model\n",
    "plt.plot(hist.history['loss'])\n",
    "plt.plot(hist.history['val_loss'])\n",
    "plt.title(\"model Loss\")\n",
    "plt.ylabel(\"Loss\")\n",
    "plt.xlabel(\"Epoch\")\n",
    "plt.legend([\"loss\",\"Validation Loss\"])\n",
    "plt.show()"
   ]
  },
  {
   "cell_type": "code",
   "execution_count": null,
   "metadata": {},
   "outputs": [],
   "source": [
    "model.save(\"/home/sushant/Desktop/Study/DL/Project/model.h5\")"
   ]
  }
 ],
 "metadata": {
  "kernelspec": {
   "display_name": "Python 3",
   "language": "python",
   "name": "python3"
  },
  "language_info": {
   "codemirror_mode": {
    "name": "ipython",
    "version": 3
   },
   "file_extension": ".py",
   "mimetype": "text/x-python",
   "name": "python",
   "nbconvert_exporter": "python",
   "pygments_lexer": "ipython3",
   "version": "3.6.10"
  }
 },
 "nbformat": 4,
 "nbformat_minor": 4
}
