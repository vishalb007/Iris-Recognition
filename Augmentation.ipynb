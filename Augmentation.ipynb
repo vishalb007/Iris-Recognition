{
 "cells": [
  {
   "cell_type": "code",
   "execution_count": 1,
   "metadata": {},
   "outputs": [],
   "source": [
    "import cv2\n",
    "import numpy as np\n",
    "from skimage import io \n",
    "from skimage.transform import rotate, AffineTransform, warp\n",
    "import matplotlib.pyplot as plt\n",
    "import random\n",
    "from skimage import img_as_ubyte\n",
    "import os\n",
    "from skimage.util import random_noise"
   ]
  },
  {
   "cell_type": "code",
   "execution_count": 2,
   "metadata": {},
   "outputs": [],
   "source": [
    "#Lets define functions for each operation\n",
    "def anticlockwise_rotation(image):\n",
    "    angle= random.randint(0,180)\n",
    "    return rotate(image, angle)\n",
    "\n",
    "def clockwise_rotation(image):\n",
    "    angle= random.randint(0,180)\n",
    "    return rotate(image, -angle)\n",
    "\n",
    "def h_flip(image):\n",
    "    return  np.fliplr(image)\n",
    "\n",
    "def v_flip(image):\n",
    "    return np.flipud(image)\n",
    "\n",
    "def add_noise(image):\n",
    "    return random_noise(image)\n",
    "\n",
    "def blur_image(image):\n",
    "    return cv2.GaussianBlur(image, (9,9),0)\n",
    "\n",
    "#I would not recommend warp_shifting, because it distorts image, but can be used in many use case like \n",
    "#classifying blur and non-blur images\n",
    "def warp_shift(image): \n",
    "    transform = AffineTransform(translation=(0,40))  #chose x,y values according to your convinience\n",
    "    warp_image = warp(image, transform, mode=\"wrap\")\n",
    "    return warp_image"
   ]
  },
  {
   "cell_type": "code",
   "execution_count": 3,
   "metadata": {},
   "outputs": [],
   "source": [
    "transformations = {'rotate anticlockwise': anticlockwise_rotation,\n",
    "                      'rotate clockwise': clockwise_rotation,\n",
    "                      'horizontal flip': h_flip, \n",
    "                      'vertical flip': v_flip,\n",
    "                   'warp shift': warp_shift,\n",
    "                   'adding noise': add_noise,\n",
    "                   'blurring image':blur_image\n",
    "                 }                #use dictionary to store names of functions \n",
    "for j in range(108):\n",
    "    j=j+1\n",
    "    images_path=\"/home/sushant/Desktop/Study/DL/Project/Final/CASIA1/Train/{0}\".format(j) #path to original images\n",
    "    augmented_path=\"/home/sushant/Desktop/Study/DL/Project/Final/CASIA1/Train/{0}\".format(j) # path to store aumented images\n",
    "    images=[] # to store paths of images from folder\n",
    "\n",
    "    for im in os.listdir(images_path):  # read image name from folder and append its path into \"images\" array     \n",
    "        images.append(os.path.join(images_path,im))\n",
    "\n",
    "    images_to_generate=10  #you can change this value according to your requirement\n",
    "    i=1                        # variable to iterate till images_to_generate\n",
    "\n",
    "    while i<=images_to_generate:    \n",
    "        image=random.choice(images)\n",
    "        original_image = io.imread(image)\n",
    "        transformed_image=None\n",
    "    #     print(i)\n",
    "        n = 0       #variable to iterate till number of transformation to apply\n",
    "        transformation_count = random.randint(1, len(transformations)) #choose random number of transformation to apply on the image\n",
    "\n",
    "        while n <= transformation_count:\n",
    "            key = random.choice(list(transformations)) #randomly choosing method to call\n",
    "            transformed_image = transformations[key](original_image)\n",
    "            n = n + 1\n",
    "\n",
    "        new_image_path= \"%s/oo%s_3_%s.jpg\" %(augmented_path,j, i)\n",
    "        transformed_image = img_as_ubyte(transformed_image)  #Convert an image to unsigned byte format, with values in [0, 255].\n",
    "        transformed_image=cv2.cvtColor(transformed_image, cv2.COLOR_BGR2RGB) #convert image to RGB before saving it\n",
    "        transformed_image = cv2.resize(transformed_image,(320,210))\n",
    "        cv2.imwrite(new_image_path, transformed_image) # save transformed image to path\n",
    "        i =i+1\n",
    "    #to generate more images, put above 3 statement inside while n<... loop"
   ]
  }
 ],
 "metadata": {
  "kernelspec": {
   "display_name": "Python 3",
   "language": "python",
   "name": "python3"
  },
  "language_info": {
   "codemirror_mode": {
    "name": "ipython",
    "version": 3
   },
   "file_extension": ".py",
   "mimetype": "text/x-python",
   "name": "python",
   "nbconvert_exporter": "python",
   "pygments_lexer": "ipython3",
   "version": "3.6.10"
  }
 },
 "nbformat": 4,
 "nbformat_minor": 2
}
