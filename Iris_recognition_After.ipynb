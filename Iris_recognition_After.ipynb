{
 "cells": [
  {
   "cell_type": "code",
   "execution_count": 1,
   "metadata": {},
   "outputs": [
    {
     "name": "stderr",
     "output_type": "stream",
     "text": [
      "Using TensorFlow backend.\n"
     ]
    }
   ],
   "source": [
    "#Import required libraries.\n",
    "import keras,os\n",
    "from keras.models import Sequential\n",
    "from keras.layers import Dense, Conv2D, MaxPool2D , Flatten, Dropout\n",
    "from keras.preprocessing.image import ImageDataGenerator\n",
    "import numpy as np"
   ]
  },
  {
   "cell_type": "code",
   "execution_count": 2,
   "metadata": {},
   "outputs": [
    {
     "name": "stdout",
     "output_type": "stream",
     "text": [
      "Found 1836 images belonging to 108 classes.\n",
      "Found 216 images belonging to 108 classes.\n"
     ]
    }
   ],
   "source": [
    "#ImageDataGenerator Generate batches of tensor image data with real-time data augmentation. \n",
    "#The folders contains augmented data as well.\n",
    "trdata = ImageDataGenerator()\n",
    "traindata = trdata.flow_from_directory(directory=\"/home/sushant/Desktop/Study/DL/Project/Final/CASIA1/Train/\",target_size=(320,240))\n",
    "tsdata = ImageDataGenerator()\n",
    "validdata = tsdata.flow_from_directory(directory=\"/home/sushant/Desktop/Study/DL/Project/Final/CASIA1/Valid/\", target_size=(320,240))"
   ]
  },
  {
   "cell_type": "code",
   "execution_count": 3,
   "metadata": {},
   "outputs": [
    {
     "name": "stdout",
     "output_type": "stream",
     "text": [
      "WARNING:tensorflow:From /home/sushant/anaconda3/lib/python3.6/site-packages/tensorflow_core/python/ops/resource_variable_ops.py:1630: calling BaseResourceVariable.__init__ (from tensorflow.python.ops.resource_variable_ops) with constraint is deprecated and will be removed in a future version.\n",
      "Instructions for updating:\n",
      "If using Keras pass *_constraint arguments to layers.\n",
      "WARNING:tensorflow:From /home/sushant/anaconda3/lib/python3.6/site-packages/keras/backend/tensorflow_backend.py:4070: The name tf.nn.max_pool is deprecated. Please use tf.nn.max_pool2d instead.\n",
      "\n"
     ]
    }
   ],
   "source": [
    "# Model for generating architecture proposed in the paper\n",
    "model = Sequential()\n",
    "model.add(Conv2D(input_shape=(320,240,3),filters=32,kernel_size=(3,3), activation=\"relu\"))\n",
    "model.add(MaxPool2D(pool_size=(2,2)))\n",
    "model.add(Conv2D(filters=64, kernel_size=(5,5), activation=\"relu\"))\n",
    "model.add(MaxPool2D(pool_size=(2,2)))\n",
    "model.add(Conv2D(filters=128, kernel_size=(7,7), activation=\"relu\"))\n",
    "model.add(MaxPool2D(pool_size=(2,2)))\n",
    "model.add(Flatten())\n",
    "model.add(Dense(units=256,activation=\"relu\"))\n",
    "model.add(Dropout(0.3))\n",
    "model.add(Dense(units=108, activation=\"softmax\"))"
   ]
  },
  {
   "cell_type": "code",
   "execution_count": 4,
   "metadata": {},
   "outputs": [],
   "source": [
    "#optimizer(Adam) with initial learning rate = 0.0001 while training model \n",
    "from keras.optimizers import Adam\n",
    "opt = Adam(lr=0.0001)\n",
    "model.compile(optimizer=opt, loss=keras.losses.categorical_crossentropy, metrics=['accuracy'])"
   ]
  },
  {
   "cell_type": "code",
   "execution_count": 5,
   "metadata": {},
   "outputs": [
    {
     "name": "stdout",
     "output_type": "stream",
     "text": [
      "WARNING:tensorflow:From /home/sushant/anaconda3/lib/python3.6/site-packages/keras/backend/tensorflow_backend.py:422: The name tf.global_variables is deprecated. Please use tf.compat.v1.global_variables instead.\n",
      "\n",
      "Epoch 1/30\n",
      "30/30 [==============================] - 219s 7s/step - loss: 16.6128 - accuracy: 0.0117 - val_loss: 4.6609 - val_accuracy: 0.0278\n",
      "\n",
      "Epoch 00001: val_accuracy improved from -inf to 0.02778, saving model to model.h5\n",
      "Epoch 2/30\n",
      "30/30 [==============================] - 227s 8s/step - loss: 4.6835 - accuracy: 0.0104 - val_loss: 4.6507 - val_accuracy: 0.0093\n",
      "\n",
      "Epoch 00002: val_accuracy did not improve from 0.02778\n",
      "Epoch 3/30\n",
      "30/30 [==============================] - 218s 7s/step - loss: 4.6591 - accuracy: 0.0128 - val_loss: 4.5875 - val_accuracy: 0.0417\n",
      "\n",
      "Epoch 00003: val_accuracy improved from 0.02778 to 0.04167, saving model to model.h5\n",
      "Epoch 4/30\n",
      "30/30 [==============================] - 220s 7s/step - loss: 4.6257 - accuracy: 0.0240 - val_loss: 4.5231 - val_accuracy: 0.0417\n",
      "\n",
      "Epoch 00004: val_accuracy did not improve from 0.04167\n",
      "Epoch 5/30\n",
      "30/30 [==============================] - 215s 7s/step - loss: 4.5105 - accuracy: 0.0543 - val_loss: 4.1860 - val_accuracy: 0.1528\n",
      "\n",
      "Epoch 00005: val_accuracy improved from 0.04167 to 0.15278, saving model to model.h5\n",
      "Epoch 6/30\n",
      "30/30 [==============================] - 217s 7s/step - loss: 4.3174 - accuracy: 0.0781 - val_loss: 3.5283 - val_accuracy: 0.1991\n",
      "\n",
      "Epoch 00006: val_accuracy improved from 0.15278 to 0.19907, saving model to model.h5\n",
      "Epoch 7/30\n",
      "30/30 [==============================] - 217s 7s/step - loss: 3.9699 - accuracy: 0.1417 - val_loss: 3.6011 - val_accuracy: 0.2731\n",
      "\n",
      "Epoch 00007: val_accuracy improved from 0.19907 to 0.27315, saving model to model.h5\n",
      "Epoch 8/30\n",
      "30/30 [==============================] - 212s 7s/step - loss: 3.6381 - accuracy: 0.1989 - val_loss: 2.5090 - val_accuracy: 0.4769\n",
      "\n",
      "Epoch 00008: val_accuracy improved from 0.27315 to 0.47685, saving model to model.h5\n",
      "Epoch 9/30\n",
      "30/30 [==============================] - 216s 7s/step - loss: 3.1372 - accuracy: 0.2968 - val_loss: 2.1882 - val_accuracy: 0.5231\n",
      "\n",
      "Epoch 00009: val_accuracy improved from 0.47685 to 0.52315, saving model to model.h5\n",
      "Epoch 10/30\n",
      "30/30 [==============================] - 219s 7s/step - loss: 2.8870 - accuracy: 0.3333 - val_loss: 1.5075 - val_accuracy: 0.6296\n",
      "\n",
      "Epoch 00010: val_accuracy improved from 0.52315 to 0.62963, saving model to model.h5\n",
      "Epoch 11/30\n",
      "30/30 [==============================] - 213s 7s/step - loss: 2.3611 - accuracy: 0.4532 - val_loss: 1.0651 - val_accuracy: 0.6991\n",
      "\n",
      "Epoch 00011: val_accuracy improved from 0.62963 to 0.69907, saving model to model.h5\n",
      "Epoch 12/30\n",
      "30/30 [==============================] - 217s 7s/step - loss: 2.1487 - accuracy: 0.5000 - val_loss: 1.2435 - val_accuracy: 0.7685\n",
      "\n",
      "Epoch 00012: val_accuracy improved from 0.69907 to 0.76852, saving model to model.h5\n",
      "Epoch 13/30\n",
      "30/30 [==============================] - 215s 7s/step - loss: 1.7584 - accuracy: 0.5734 - val_loss: 0.6916 - val_accuracy: 0.8935\n",
      "\n",
      "Epoch 00013: val_accuracy improved from 0.76852 to 0.89352, saving model to model.h5\n",
      "Epoch 14/30\n",
      "30/30 [==============================] - 214s 7s/step - loss: 1.5707 - accuracy: 0.6128 - val_loss: 0.3659 - val_accuracy: 0.8981\n",
      "\n",
      "Epoch 00014: val_accuracy improved from 0.89352 to 0.89815, saving model to model.h5\n",
      "Epoch 15/30\n",
      "30/30 [==============================] - 220s 7s/step - loss: 1.1493 - accuracy: 0.7000 - val_loss: 0.3779 - val_accuracy: 0.9630\n",
      "\n",
      "Epoch 00015: val_accuracy improved from 0.89815 to 0.96296, saving model to model.h5\n",
      "Epoch 16/30\n",
      "30/30 [==============================] - 235s 8s/step - loss: 0.9951 - accuracy: 0.7437 - val_loss: 0.1523 - val_accuracy: 0.9630\n",
      "\n",
      "Epoch 00016: val_accuracy did not improve from 0.96296\n",
      "Epoch 17/30\n",
      "30/30 [==============================] - 237s 8s/step - loss: 0.8161 - accuracy: 0.7896 - val_loss: 0.2175 - val_accuracy: 0.9630\n",
      "\n",
      "Epoch 00017: val_accuracy did not improve from 0.96296\n",
      "Epoch 18/30\n",
      "30/30 [==============================] - 229s 8s/step - loss: 0.5862 - accuracy: 0.8435 - val_loss: 0.1853 - val_accuracy: 0.9861\n",
      "\n",
      "Epoch 00018: val_accuracy improved from 0.96296 to 0.98611, saving model to model.h5\n",
      "Epoch 19/30\n",
      "30/30 [==============================] - 237s 8s/step - loss: 0.5149 - accuracy: 0.8698 - val_loss: 0.0951 - val_accuracy: 0.9769\n",
      "\n",
      "Epoch 00019: val_accuracy did not improve from 0.98611\n",
      "Epoch 20/30\n",
      "30/30 [==============================] - 238s 8s/step - loss: 0.4900 - accuracy: 0.8771 - val_loss: 0.0988 - val_accuracy: 0.9954\n",
      "\n",
      "Epoch 00020: val_accuracy improved from 0.98611 to 0.99537, saving model to model.h5\n",
      "Epoch 21/30\n",
      "30/30 [==============================] - 233s 8s/step - loss: 0.3385 - accuracy: 0.8968 - val_loss: 0.0293 - val_accuracy: 1.0000\n",
      "\n",
      "Epoch 00021: val_accuracy improved from 0.99537 to 1.00000, saving model to model.h5\n",
      "Epoch 22/30\n",
      "30/30 [==============================] - 232s 8s/step - loss: 0.2822 - accuracy: 0.9292 - val_loss: 0.0139 - val_accuracy: 1.0000\n",
      "\n",
      "Epoch 00022: val_accuracy did not improve from 1.00000\n",
      "Epoch 23/30\n",
      "30/30 [==============================] - 222s 7s/step - loss: 0.2935 - accuracy: 0.9202 - val_loss: 0.0134 - val_accuracy: 1.0000\n",
      "\n",
      "Epoch 00023: val_accuracy did not improve from 1.00000\n",
      "Epoch 24/30\n",
      "30/30 [==============================] - 222s 7s/step - loss: 0.1881 - accuracy: 0.9553 - val_loss: 0.0109 - val_accuracy: 1.0000\n",
      "\n",
      "Epoch 00024: val_accuracy did not improve from 1.00000\n",
      "Epoch 25/30\n",
      "30/30 [==============================] - 227s 8s/step - loss: 0.1472 - accuracy: 0.9656 - val_loss: 0.0048 - val_accuracy: 1.0000\n",
      "\n",
      "Epoch 00025: val_accuracy did not improve from 1.00000\n",
      "Epoch 26/30\n",
      "30/30 [==============================] - 222s 7s/step - loss: 0.1548 - accuracy: 0.9628 - val_loss: 0.0132 - val_accuracy: 1.0000\n",
      "\n",
      "Epoch 00026: val_accuracy did not improve from 1.00000\n",
      "Epoch 27/30\n",
      "30/30 [==============================] - 225s 8s/step - loss: 0.1325 - accuracy: 0.9667 - val_loss: 0.0061 - val_accuracy: 1.0000\n",
      "\n",
      "Epoch 00027: val_accuracy did not improve from 1.00000\n",
      "Epoch 28/30\n",
      "30/30 [==============================] - 221s 7s/step - loss: 0.1198 - accuracy: 0.9670 - val_loss: 0.0050 - val_accuracy: 1.0000\n",
      "\n",
      "Epoch 00028: val_accuracy did not improve from 1.00000\n",
      "Epoch 29/30\n",
      "30/30 [==============================] - 226s 8s/step - loss: 0.1135 - accuracy: 0.9719 - val_loss: 0.0021 - val_accuracy: 1.0000\n",
      "\n",
      "Epoch 00029: val_accuracy did not improve from 1.00000\n",
      "Epoch 30/30\n",
      "30/30 [==============================] - 222s 7s/step - loss: 0.1023 - accuracy: 0.9723 - val_loss: 0.0015 - val_accuracy: 1.0000\n",
      "\n",
      "Epoch 00030: val_accuracy did not improve from 1.00000\n"
     ]
    }
   ],
   "source": [
    "#Training model\n",
    "from keras.callbacks import ModelCheckpoint, EarlyStopping\n",
    "\n",
    "#Updates weights of model when the validation accuracy is improved\n",
    "checkpoint = ModelCheckpoint(\"model.h5\", monitor='val_accuracy', verbose=1, save_best_only=True, save_weights_only=False, mode='auto', period=1)\n",
    "\n",
    "#early = EarlyStopping(monitor='val_accuracy', min_delta=0, patience=20, verbose=1, mode='auto')\n",
    "\n",
    "#Steps_per_epoch: No. of times the weights are updated per epoch\n",
    "hist = model.fit_generator(steps_per_epoch=30,generator=traindata, validation_data= validdata,epochs=30,callbacks=[checkpoint])"
   ]
  },
  {
   "cell_type": "code",
   "execution_count": 6,
   "metadata": {},
   "outputs": [
    {
     "data": {
      "image/png": "[encoded data removed]",
      "text/plain": [
       "<Figure size 432x288 with 1 Axes>"
      ]
     },
     "metadata": {
      "needs_background": "light"
     },
     "output_type": "display_data"
    }
   ],
   "source": [
    "#Presenting accuracy of a model\n",
    "import matplotlib.pyplot as plt\n",
    "plt.plot(hist.history[\"accuracy\"])\n",
    "plt.plot(hist.history['val_accuracy'])\n",
    "plt.title(\"model accuracy\")\n",
    "plt.ylabel(\"Accuracy\")\n",
    "plt.xlabel(\"Epoch\")\n",
    "plt.legend([\"Accuracy\",\"Validation Accuracy\"])\n",
    "plt.show()"
   ]
  },
  {
   "cell_type": "code",
   "execution_count": 7,
   "metadata": {},
   "outputs": [
    {
     "data": {
      "image/png": "[encoded data removed]",
      "text/plain": [
       "<Figure size 432x288 with 1 Axes>"
      ]
     },
     "metadata": {
      "needs_background": "light"
     },
     "output_type": "display_data"
    }
   ],
   "source": [
    "#Presenting loss of a model\n",
    "plt.plot(hist.history['loss'])\n",
    "plt.plot(hist.history['val_loss'])\n",
    "plt.title(\"model Loss\")\n",
    "plt.ylabel(\"Loss\")\n",
    "plt.xlabel(\"Epoch\")\n",
    "plt.legend([\"loss\",\"Validation Loss\"])\n",
    "plt.show()"
   ]
  },
  {
   "cell_type": "code",
   "execution_count": null,
   "metadata": {},
   "outputs": [],
   "source": []
  }
 ],
 "metadata": {
  "kernelspec": {
   "display_name": "Python 3",
   "language": "python",
   "name": "python3"
  },
  "language_info": {
   "codemirror_mode": {
    "name": "ipython",
    "version": 3
   },
   "file_extension": ".py",
   "mimetype": "text/x-python",
   "name": "python",
   "nbconvert_exporter": "python",
   "pygments_lexer": "ipython3",
   "version": "3.6.10"
  }
 },
 "nbformat": 4,
 "nbformat_minor": 4
}
